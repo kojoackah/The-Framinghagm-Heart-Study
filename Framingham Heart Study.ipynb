{
 "cells": [
  {
   "cell_type": "code",
   "execution_count": 3,
   "id": "eligible-hormone",
   "metadata": {
    "scrolled": true
   },
   "outputs": [
    {
     "data": {
      "text/html": [
       "<div>\n",
       "<style scoped>\n",
       "    .dataframe tbody tr th:only-of-type {\n",
       "        vertical-align: middle;\n",
       "    }\n",
       "\n",
       "    .dataframe tbody tr th {\n",
       "        vertical-align: top;\n",
       "    }\n",
       "\n",
       "    .dataframe thead th {\n",
       "        text-align: right;\n",
       "    }\n",
       "</style>\n",
       "<table border=\"1\" class=\"dataframe\">\n",
       "  <thead>\n",
       "    <tr style=\"text-align: right;\">\n",
       "      <th></th>\n",
       "      <th>male</th>\n",
       "      <th>age</th>\n",
       "      <th>education</th>\n",
       "      <th>currentSmoker</th>\n",
       "      <th>cigsPerDay</th>\n",
       "      <th>BPMeds</th>\n",
       "      <th>prevalentStroke</th>\n",
       "      <th>prevalentHyp</th>\n",
       "      <th>diabetes</th>\n",
       "      <th>totChol</th>\n",
       "      <th>sysBP</th>\n",
       "      <th>diaBP</th>\n",
       "      <th>BMI</th>\n",
       "      <th>heartRate</th>\n",
       "      <th>glucose</th>\n",
       "      <th>TenYearCHD</th>\n",
       "    </tr>\n",
       "  </thead>\n",
       "  <tbody>\n",
       "    <tr>\n",
       "      <th>0</th>\n",
       "      <td>1</td>\n",
       "      <td>39</td>\n",
       "      <td>4.0</td>\n",
       "      <td>0</td>\n",
       "      <td>0.0</td>\n",
       "      <td>0.0</td>\n",
       "      <td>0</td>\n",
       "      <td>0</td>\n",
       "      <td>0</td>\n",
       "      <td>195.0</td>\n",
       "      <td>106.0</td>\n",
       "      <td>70.0</td>\n",
       "      <td>26.97</td>\n",
       "      <td>80.0</td>\n",
       "      <td>77.0</td>\n",
       "      <td>0</td>\n",
       "    </tr>\n",
       "    <tr>\n",
       "      <th>1</th>\n",
       "      <td>0</td>\n",
       "      <td>46</td>\n",
       "      <td>2.0</td>\n",
       "      <td>0</td>\n",
       "      <td>0.0</td>\n",
       "      <td>0.0</td>\n",
       "      <td>0</td>\n",
       "      <td>0</td>\n",
       "      <td>0</td>\n",
       "      <td>250.0</td>\n",
       "      <td>121.0</td>\n",
       "      <td>81.0</td>\n",
       "      <td>28.73</td>\n",
       "      <td>95.0</td>\n",
       "      <td>76.0</td>\n",
       "      <td>0</td>\n",
       "    </tr>\n",
       "    <tr>\n",
       "      <th>2</th>\n",
       "      <td>1</td>\n",
       "      <td>48</td>\n",
       "      <td>1.0</td>\n",
       "      <td>1</td>\n",
       "      <td>20.0</td>\n",
       "      <td>0.0</td>\n",
       "      <td>0</td>\n",
       "      <td>0</td>\n",
       "      <td>0</td>\n",
       "      <td>245.0</td>\n",
       "      <td>127.5</td>\n",
       "      <td>80.0</td>\n",
       "      <td>25.34</td>\n",
       "      <td>75.0</td>\n",
       "      <td>70.0</td>\n",
       "      <td>0</td>\n",
       "    </tr>\n",
       "    <tr>\n",
       "      <th>3</th>\n",
       "      <td>0</td>\n",
       "      <td>61</td>\n",
       "      <td>3.0</td>\n",
       "      <td>1</td>\n",
       "      <td>30.0</td>\n",
       "      <td>0.0</td>\n",
       "      <td>0</td>\n",
       "      <td>1</td>\n",
       "      <td>0</td>\n",
       "      <td>225.0</td>\n",
       "      <td>150.0</td>\n",
       "      <td>95.0</td>\n",
       "      <td>28.58</td>\n",
       "      <td>65.0</td>\n",
       "      <td>103.0</td>\n",
       "      <td>1</td>\n",
       "    </tr>\n",
       "    <tr>\n",
       "      <th>4</th>\n",
       "      <td>0</td>\n",
       "      <td>46</td>\n",
       "      <td>3.0</td>\n",
       "      <td>1</td>\n",
       "      <td>23.0</td>\n",
       "      <td>0.0</td>\n",
       "      <td>0</td>\n",
       "      <td>0</td>\n",
       "      <td>0</td>\n",
       "      <td>285.0</td>\n",
       "      <td>130.0</td>\n",
       "      <td>84.0</td>\n",
       "      <td>23.10</td>\n",
       "      <td>85.0</td>\n",
       "      <td>85.0</td>\n",
       "      <td>0</td>\n",
       "    </tr>\n",
       "  </tbody>\n",
       "</table>\n",
       "</div>"
      ],
      "text/plain": [
       "   male  age  education  currentSmoker  cigsPerDay  BPMeds  prevalentStroke  \\\n",
       "0     1   39        4.0              0         0.0     0.0                0   \n",
       "1     0   46        2.0              0         0.0     0.0                0   \n",
       "2     1   48        1.0              1        20.0     0.0                0   \n",
       "3     0   61        3.0              1        30.0     0.0                0   \n",
       "4     0   46        3.0              1        23.0     0.0                0   \n",
       "\n",
       "   prevalentHyp  diabetes  totChol  sysBP  diaBP    BMI  heartRate  glucose  \\\n",
       "0             0         0    195.0  106.0   70.0  26.97       80.0     77.0   \n",
       "1             0         0    250.0  121.0   81.0  28.73       95.0     76.0   \n",
       "2             0         0    245.0  127.5   80.0  25.34       75.0     70.0   \n",
       "3             1         0    225.0  150.0   95.0  28.58       65.0    103.0   \n",
       "4             0         0    285.0  130.0   84.0  23.10       85.0     85.0   \n",
       "\n",
       "   TenYearCHD  \n",
       "0           0  \n",
       "1           0  \n",
       "2           0  \n",
       "3           1  \n",
       "4           0  "
      ]
     },
     "execution_count": 3,
     "metadata": {},
     "output_type": "execute_result"
    }
   ],
   "source": [
    "import pandas as pd\n",
    "from matplotlib import pyplot as plt\n",
    "framingham = pd.read_csv(r'C:\\Users\\USER\\Downloads\\Samples\\Andrew Ng\\Octave Submission scripts\\Javascript\\Framingham-Heart-Study-master\\framingham.csv')\n",
    "framingham.head()"
   ]
  },
  {
   "cell_type": "code",
   "execution_count": 4,
   "id": "thousand-bankruptcy",
   "metadata": {},
   "outputs": [
    {
     "data": {
      "text/plain": [
       "<AxesSubplot:xlabel='age', ylabel='count'>"
      ]
     },
     "execution_count": 4,
     "metadata": {},
     "output_type": "execute_result"
    },
    {
     "data": {
      "image/png": "[encoded data removed]",
      "text/plain": [
       "<Figure size 432x288 with 1 Axes>"
      ]
     },
     "metadata": {},
     "output_type": "display_data"
    }
   ],
   "source": [
    "import seaborn as sns\n",
    "sns.set(font_scale = 0.7)\n",
    "sns.countplot(x = 'age', data= framingham)"
   ]
  },
  {
   "cell_type": "code",
   "execution_count": 5,
   "id": "composite-tolerance",
   "metadata": {},
   "outputs": [
    {
     "data": {
      "text/plain": [
       "<AxesSubplot:xlabel='count', ylabel='education'>"
      ]
     },
     "execution_count": 5,
     "metadata": {},
     "output_type": "execute_result"
    },
    {
     "data": {
      "image/png": "[encoded data removed]",
      "text/plain": [
       "<Figure size 432x288 with 1 Axes>"
      ]
     },
     "metadata": {},
     "output_type": "display_data"
    }
   ],
   "source": [
    "sns.set(font_scale = 1.5)\n",
    "sns.countplot(y = 'education', data= framingham, hue= 'male')"
   ]
  },
  {
   "cell_type": "code",
   "execution_count": 6,
   "id": "digital-advancement",
   "metadata": {},
   "outputs": [
    {
     "data": {
      "text/plain": [
       "<seaborn.axisgrid.FacetGrid at 0x1d5d3610c70>"
      ]
     },
     "execution_count": 6,
     "metadata": {},
     "output_type": "execute_result"
    },
    {
     "data": {
      "image/png": "[encoded data removed]",
      "text/plain": [
       "<Figure size 360x360 with 1 Axes>"
      ]
     },
     "metadata": {},
     "output_type": "display_data"
    }
   ],
   "source": [
    "sns.catplot(x='TenYearCHD', y= 'cigsPerDay',kind= 'bar',data= framingham)"
   ]
  },
  {
   "cell_type": "code",
   "execution_count": 7,
   "id": "authentic-grill",
   "metadata": {},
   "outputs": [
    {
     "data": {
      "text/plain": [
       "<seaborn.axisgrid.FacetGrid at 0x1d5d2522e80>"
      ]
     },
     "execution_count": 7,
     "metadata": {},
     "output_type": "execute_result"
    },
    {
     "data": {
      "image/png": "[encoded data removed]",
      "text/plain": [
       "<Figure size 477.7x360 with 1 Axes>"
      ]
     },
     "metadata": {},
     "output_type": "display_data"
    }
   ],
   "source": [
    "sns.catplot(x='totChol', y= 'heartRate', hue = \"TenYearCHD\",data= framingham)\n"
   ]
  },
  {
   "cell_type": "code",
   "execution_count": 6,
   "id": "stuffed-syria",
   "metadata": {},
   "outputs": [
    {
     "data": {
      "text/plain": [
       "<matplotlib.legend.Legend at 0x144d3729040>"
      ]
     },
     "execution_count": 6,
     "metadata": {},
     "output_type": "execute_result"
    },
    {
     "data": {
      "image/png": "[encoded data removed]",
      "text/plain": [
       "<Figure size 432x288 with 1 Axes>"
      ]
     },
     "metadata": {},
     "output_type": "display_data"
    }
   ],
   "source": [
    "sns.boxplot(x='TenYearCHD', y='age',hue='male',data= framingham)\n",
    "plt.legend(bbox_to_anchor = (1.05,1), loc=2, title=\"Male\" )"
   ]
  },
  {
   "cell_type": "code",
   "execution_count": 7,
   "id": "affecting-origin",
   "metadata": {},
   "outputs": [
    {
     "data": {
      "text/plain": [
       "<matplotlib.legend.Legend at 0x144d37cf370>"
      ]
     },
     "execution_count": 7,
     "metadata": {},
     "output_type": "execute_result"
    },
    {
     "data": {
      "image/png": "[encoded data removed]",
      "text/plain": [
       "<Figure size 432x288 with 1 Axes>"
      ]
     },
     "metadata": {},
     "output_type": "display_data"
    }
   ],
   "source": [
    "sns.boxplot(x='TenYearCHD', y='age',hue='currentSmoker',data= framingham)\n",
    "plt.legend(bbox_to_anchor = (1.05,1), loc=2, title = \"Current Smoker\")"
   ]
  },
  {
   "cell_type": "code",
   "execution_count": 8,
   "id": "amino-slide",
   "metadata": {},
   "outputs": [
    {
     "data": {
      "text/plain": [
       "(70.0, 725.45)"
      ]
     },
     "execution_count": 8,
     "metadata": {},
     "output_type": "execute_result"
    },
    {
     "data": {
      "image/png": "[encoded data removed]",
      "text/plain": [
       "<Figure size 432x288 with 1 Axes>"
      ]
     },
     "metadata": {},
     "output_type": "display_data"
    }
   ],
   "source": [
    "sns.boxplot(x= 'TenYearCHD', y= 'totChol', data= framingham)\n",
    "plt.ylim(70)"
   ]
  },
  {
   "cell_type": "code",
   "execution_count": 9,
   "id": "immediate-pressure",
   "metadata": {},
   "outputs": [
    {
     "data": {
      "text/plain": [
       "<seaborn.axisgrid.FacetGrid at 0x144d3725460>"
      ]
     },
     "execution_count": 9,
     "metadata": {},
     "output_type": "execute_result"
    },
    {
     "data": {
      "image/png": "[encoded data removed]",
      "text/plain": [
       "<Figure size 360x360 with 1 Axes>"
      ]
     },
     "metadata": {},
     "output_type": "display_data"
    }
   ],
   "source": [
    "sns.catplot(x='TenYearCHD',y='BPMeds',kind='bar',data=framingham)"
   ]
  },
  {
   "cell_type": "code",
   "execution_count": 10,
   "id": "pursuant-migration",
   "metadata": {},
   "outputs": [
    {
     "data": {
      "text/plain": [
       "male               False\n",
       "age                False\n",
       "education           True\n",
       "currentSmoker      False\n",
       "cigsPerDay          True\n",
       "BPMeds              True\n",
       "prevalentStroke    False\n",
       "prevalentHyp       False\n",
       "diabetes           False\n",
       "totChol             True\n",
       "sysBP              False\n",
       "diaBP              False\n",
       "BMI                 True\n",
       "heartRate           True\n",
       "glucose             True\n",
       "TenYearCHD         False\n",
       "dtype: bool"
      ]
     },
     "execution_count": 10,
     "metadata": {},
     "output_type": "execute_result"
    }
   ],
   "source": [
    "framingham.isnull().any()\n",
    "#checking for missing values"
   ]
  },
  {
   "cell_type": "code",
   "execution_count": 11,
   "id": "diagnostic-access",
   "metadata": {},
   "outputs": [
    {
     "data": {
      "text/plain": [
       "male               False\n",
       "age                False\n",
       "education           True\n",
       "currentSmoker      False\n",
       "cigsPerDay          True\n",
       "BPMeds              True\n",
       "prevalentStroke    False\n",
       "prevalentHyp       False\n",
       "diabetes           False\n",
       "totChol             True\n",
       "sysBP              False\n",
       "diaBP              False\n",
       "BMI                 True\n",
       "heartRate           True\n",
       "glucose             True\n",
       "TenYearCHD         False\n",
       "dtype: bool"
      ]
     },
     "execution_count": 11,
     "metadata": {},
     "output_type": "execute_result"
    }
   ],
   "source": [
    "framingham.isna().any()\n",
    "#checking for NaN values"
   ]
  },
  {
   "cell_type": "code",
   "execution_count": 12,
   "id": "forbidden-orleans",
   "metadata": {},
   "outputs": [
    {
     "name": "stdout",
     "output_type": "stream",
     "text": [
      "education 105\n",
      "cigsPerDay 29\n",
      "BPMeds 53\n",
      "totChol 50\n",
      "BMI 19\n",
      "heartRate 1\n",
      "glucose 388\n"
     ]
    }
   ],
   "source": [
    "nan_headings = ['education','cigsPerDay','BPMeds','totChol','BMI','heartRate','glucose']\n",
    "for i in range(len(nan_headings)):\n",
    "    num_missing = (framingham[nan_headings[i]].isna().sum())\n",
    "    print(nan_headings[i],num_missing)\n",
    "#These are the number of NaN under each of the headings in the is_na list pulled from previous headings with \"True\" results."
   ]
  },
  {
   "cell_type": "markdown",
   "id": "weird-danish",
   "metadata": {},
   "source": [
    "###So we can remove the NaN since 388 is just 9% of the entire dataset###"
   ]
  },
  {
   "cell_type": "code",
   "execution_count": 13,
   "id": "insured-shepherd",
   "metadata": {},
   "outputs": [
    {
     "data": {
      "text/html": [
       "<div>\n",
       "<style scoped>\n",
       "    .dataframe tbody tr th:only-of-type {\n",
       "        vertical-align: middle;\n",
       "    }\n",
       "\n",
       "    .dataframe tbody tr th {\n",
       "        vertical-align: top;\n",
       "    }\n",
       "\n",
       "    .dataframe thead th {\n",
       "        text-align: right;\n",
       "    }\n",
       "</style>\n",
       "<table border=\"1\" class=\"dataframe\">\n",
       "  <thead>\n",
       "    <tr style=\"text-align: right;\">\n",
       "      <th></th>\n",
       "      <th>male</th>\n",
       "      <th>age</th>\n",
       "      <th>education</th>\n",
       "      <th>currentSmoker</th>\n",
       "      <th>cigsPerDay</th>\n",
       "      <th>BPMeds</th>\n",
       "      <th>prevalentStroke</th>\n",
       "      <th>prevalentHyp</th>\n",
       "      <th>diabetes</th>\n",
       "      <th>totChol</th>\n",
       "      <th>sysBP</th>\n",
       "      <th>diaBP</th>\n",
       "      <th>BMI</th>\n",
       "      <th>heartRate</th>\n",
       "      <th>glucose</th>\n",
       "      <th>TenYearCHD</th>\n",
       "    </tr>\n",
       "  </thead>\n",
       "  <tbody>\n",
       "    <tr>\n",
       "      <th>33</th>\n",
       "      <td>1</td>\n",
       "      <td>61</td>\n",
       "      <td>NaN</td>\n",
       "      <td>1</td>\n",
       "      <td>5.0</td>\n",
       "      <td>0.0</td>\n",
       "      <td>0</td>\n",
       "      <td>0</td>\n",
       "      <td>0</td>\n",
       "      <td>175.0</td>\n",
       "      <td>134.0</td>\n",
       "      <td>82.5</td>\n",
       "      <td>18.59</td>\n",
       "      <td>72.0</td>\n",
       "      <td>75.0</td>\n",
       "      <td>1</td>\n",
       "    </tr>\n",
       "    <tr>\n",
       "      <th>36</th>\n",
       "      <td>1</td>\n",
       "      <td>56</td>\n",
       "      <td>NaN</td>\n",
       "      <td>0</td>\n",
       "      <td>0.0</td>\n",
       "      <td>0.0</td>\n",
       "      <td>0</td>\n",
       "      <td>0</td>\n",
       "      <td>0</td>\n",
       "      <td>257.0</td>\n",
       "      <td>153.5</td>\n",
       "      <td>102.0</td>\n",
       "      <td>28.09</td>\n",
       "      <td>72.0</td>\n",
       "      <td>75.0</td>\n",
       "      <td>0</td>\n",
       "    </tr>\n",
       "    <tr>\n",
       "      <th>72</th>\n",
       "      <td>0</td>\n",
       "      <td>37</td>\n",
       "      <td>NaN</td>\n",
       "      <td>0</td>\n",
       "      <td>0.0</td>\n",
       "      <td>0.0</td>\n",
       "      <td>0</td>\n",
       "      <td>0</td>\n",
       "      <td>0</td>\n",
       "      <td>200.0</td>\n",
       "      <td>119.0</td>\n",
       "      <td>79.0</td>\n",
       "      <td>33.29</td>\n",
       "      <td>67.0</td>\n",
       "      <td>87.0</td>\n",
       "      <td>0</td>\n",
       "    </tr>\n",
       "    <tr>\n",
       "      <th>184</th>\n",
       "      <td>1</td>\n",
       "      <td>67</td>\n",
       "      <td>NaN</td>\n",
       "      <td>0</td>\n",
       "      <td>0.0</td>\n",
       "      <td>0.0</td>\n",
       "      <td>0</td>\n",
       "      <td>0</td>\n",
       "      <td>0</td>\n",
       "      <td>257.0</td>\n",
       "      <td>125.0</td>\n",
       "      <td>67.5</td>\n",
       "      <td>25.95</td>\n",
       "      <td>65.0</td>\n",
       "      <td>69.0</td>\n",
       "      <td>0</td>\n",
       "    </tr>\n",
       "    <tr>\n",
       "      <th>213</th>\n",
       "      <td>0</td>\n",
       "      <td>34</td>\n",
       "      <td>NaN</td>\n",
       "      <td>0</td>\n",
       "      <td>0.0</td>\n",
       "      <td>0.0</td>\n",
       "      <td>0</td>\n",
       "      <td>0</td>\n",
       "      <td>0</td>\n",
       "      <td>163.0</td>\n",
       "      <td>107.0</td>\n",
       "      <td>71.0</td>\n",
       "      <td>23.88</td>\n",
       "      <td>73.0</td>\n",
       "      <td>80.0</td>\n",
       "      <td>0</td>\n",
       "    </tr>\n",
       "    <tr>\n",
       "      <th>...</th>\n",
       "      <td>...</td>\n",
       "      <td>...</td>\n",
       "      <td>...</td>\n",
       "      <td>...</td>\n",
       "      <td>...</td>\n",
       "      <td>...</td>\n",
       "      <td>...</td>\n",
       "      <td>...</td>\n",
       "      <td>...</td>\n",
       "      <td>...</td>\n",
       "      <td>...</td>\n",
       "      <td>...</td>\n",
       "      <td>...</td>\n",
       "      <td>...</td>\n",
       "      <td>...</td>\n",
       "      <td>...</td>\n",
       "    </tr>\n",
       "    <tr>\n",
       "      <th>4082</th>\n",
       "      <td>1</td>\n",
       "      <td>47</td>\n",
       "      <td>NaN</td>\n",
       "      <td>0</td>\n",
       "      <td>0.0</td>\n",
       "      <td>0.0</td>\n",
       "      <td>0</td>\n",
       "      <td>1</td>\n",
       "      <td>0</td>\n",
       "      <td>254.0</td>\n",
       "      <td>137.5</td>\n",
       "      <td>91.0</td>\n",
       "      <td>31.98</td>\n",
       "      <td>75.0</td>\n",
       "      <td>69.0</td>\n",
       "      <td>0</td>\n",
       "    </tr>\n",
       "    <tr>\n",
       "      <th>4098</th>\n",
       "      <td>1</td>\n",
       "      <td>37</td>\n",
       "      <td>NaN</td>\n",
       "      <td>1</td>\n",
       "      <td>20.0</td>\n",
       "      <td>0.0</td>\n",
       "      <td>0</td>\n",
       "      <td>0</td>\n",
       "      <td>0</td>\n",
       "      <td>184.0</td>\n",
       "      <td>113.0</td>\n",
       "      <td>81.0</td>\n",
       "      <td>22.16</td>\n",
       "      <td>85.0</td>\n",
       "      <td>63.0</td>\n",
       "      <td>0</td>\n",
       "    </tr>\n",
       "    <tr>\n",
       "      <th>4121</th>\n",
       "      <td>0</td>\n",
       "      <td>55</td>\n",
       "      <td>NaN</td>\n",
       "      <td>0</td>\n",
       "      <td>0.0</td>\n",
       "      <td>0.0</td>\n",
       "      <td>0</td>\n",
       "      <td>0</td>\n",
       "      <td>0</td>\n",
       "      <td>240.0</td>\n",
       "      <td>145.0</td>\n",
       "      <td>96.0</td>\n",
       "      <td>26.27</td>\n",
       "      <td>72.0</td>\n",
       "      <td>NaN</td>\n",
       "      <td>0</td>\n",
       "    </tr>\n",
       "    <tr>\n",
       "      <th>4122</th>\n",
       "      <td>1</td>\n",
       "      <td>69</td>\n",
       "      <td>NaN</td>\n",
       "      <td>1</td>\n",
       "      <td>23.0</td>\n",
       "      <td>0.0</td>\n",
       "      <td>0</td>\n",
       "      <td>1</td>\n",
       "      <td>0</td>\n",
       "      <td>186.0</td>\n",
       "      <td>179.0</td>\n",
       "      <td>93.0</td>\n",
       "      <td>26.64</td>\n",
       "      <td>72.0</td>\n",
       "      <td>67.0</td>\n",
       "      <td>0</td>\n",
       "    </tr>\n",
       "    <tr>\n",
       "      <th>4138</th>\n",
       "      <td>1</td>\n",
       "      <td>67</td>\n",
       "      <td>NaN</td>\n",
       "      <td>1</td>\n",
       "      <td>25.0</td>\n",
       "      <td>0.0</td>\n",
       "      <td>0</td>\n",
       "      <td>1</td>\n",
       "      <td>0</td>\n",
       "      <td>221.0</td>\n",
       "      <td>144.0</td>\n",
       "      <td>84.0</td>\n",
       "      <td>24.92</td>\n",
       "      <td>72.0</td>\n",
       "      <td>73.0</td>\n",
       "      <td>0</td>\n",
       "    </tr>\n",
       "  </tbody>\n",
       "</table>\n",
       "<p>105 rows × 16 columns</p>\n",
       "</div>"
      ],
      "text/plain": [
       "      male  age  education  currentSmoker  cigsPerDay  BPMeds  \\\n",
       "33       1   61        NaN              1         5.0     0.0   \n",
       "36       1   56        NaN              0         0.0     0.0   \n",
       "72       0   37        NaN              0         0.0     0.0   \n",
       "184      1   67        NaN              0         0.0     0.0   \n",
       "213      0   34        NaN              0         0.0     0.0   \n",
       "...    ...  ...        ...            ...         ...     ...   \n",
       "4082     1   47        NaN              0         0.0     0.0   \n",
       "4098     1   37        NaN              1        20.0     0.0   \n",
       "4121     0   55        NaN              0         0.0     0.0   \n",
       "4122     1   69        NaN              1        23.0     0.0   \n",
       "4138     1   67        NaN              1        25.0     0.0   \n",
       "\n",
       "      prevalentStroke  prevalentHyp  diabetes  totChol  sysBP  diaBP    BMI  \\\n",
       "33                  0             0         0    175.0  134.0   82.5  18.59   \n",
       "36                  0             0         0    257.0  153.5  102.0  28.09   \n",
       "72                  0             0         0    200.0  119.0   79.0  33.29   \n",
       "184                 0             0         0    257.0  125.0   67.5  25.95   \n",
       "213                 0             0         0    163.0  107.0   71.0  23.88   \n",
       "...               ...           ...       ...      ...    ...    ...    ...   \n",
       "4082                0             1         0    254.0  137.5   91.0  31.98   \n",
       "4098                0             0         0    184.0  113.0   81.0  22.16   \n",
       "4121                0             0         0    240.0  145.0   96.0  26.27   \n",
       "4122                0             1         0    186.0  179.0   93.0  26.64   \n",
       "4138                0             1         0    221.0  144.0   84.0  24.92   \n",
       "\n",
       "      heartRate  glucose  TenYearCHD  \n",
       "33         72.0     75.0           1  \n",
       "36         72.0     75.0           0  \n",
       "72         67.0     87.0           0  \n",
       "184        65.0     69.0           0  \n",
       "213        73.0     80.0           0  \n",
       "...         ...      ...         ...  \n",
       "4082       75.0     69.0           0  \n",
       "4098       85.0     63.0           0  \n",
       "4121       72.0      NaN           0  \n",
       "4122       72.0     67.0           0  \n",
       "4138       72.0     73.0           0  \n",
       "\n",
       "[105 rows x 16 columns]"
      ]
     },
     "execution_count": 13,
     "metadata": {},
     "output_type": "execute_result"
    }
   ],
   "source": [
    "bool_series = pd.isna(framingham['education'])\n",
    "framingham[bool_series]"
   ]
  },
  {
   "cell_type": "code",
   "execution_count": 14,
   "id": "christian-authentication",
   "metadata": {},
   "outputs": [],
   "source": [
    "framingham = framingham.dropna()"
   ]
  },
  {
   "cell_type": "code",
   "execution_count": 15,
   "id": "passive-contract",
   "metadata": {},
   "outputs": [
    {
     "data": {
      "text/plain": [
       "male               False\n",
       "age                False\n",
       "education          False\n",
       "currentSmoker      False\n",
       "cigsPerDay         False\n",
       "BPMeds             False\n",
       "prevalentStroke    False\n",
       "prevalentHyp       False\n",
       "diabetes           False\n",
       "totChol            False\n",
       "sysBP              False\n",
       "diaBP              False\n",
       "BMI                False\n",
       "heartRate          False\n",
       "glucose            False\n",
       "TenYearCHD         False\n",
       "dtype: bool"
      ]
     },
     "execution_count": 15,
     "metadata": {},
     "output_type": "execute_result"
    }
   ],
   "source": [
    "framingham.isna().any()\n",
    "#after removing there are no NaN values now."
   ]
  },
  {
   "cell_type": "code",
   "execution_count": 16,
   "id": "fatty-branch",
   "metadata": {},
   "outputs": [
    {
     "data": {
      "text/plain": [
       "0    3101\n",
       "1     557\n",
       "Name: TenYearCHD, dtype: int64"
      ]
     },
     "execution_count": 16,
     "metadata": {},
     "output_type": "execute_result"
    }
   ],
   "source": [
    "framingham['TenYearCHD'].value_counts()"
   ]
  },
  {
   "cell_type": "code",
   "execution_count": 17,
   "id": "sought-expense",
   "metadata": {},
   "outputs": [
    {
     "name": "stdout",
     "output_type": "stream",
     "text": [
      "0.8477310005467469\n"
     ]
    }
   ],
   "source": [
    "# our prediction should always be about the majority class\n",
    "#and better than the baseline accuracy.\n",
    "#so the baseline is computed as:\n",
    "print(3101/(3101+557))"
   ]
  },
  {
   "cell_type": "code",
   "execution_count": 18,
   "id": "better-memory",
   "metadata": {},
   "outputs": [],
   "source": [
    "from sklearn.model_selection import train_test_split"
   ]
  },
  {
   "cell_type": "code",
   "execution_count": 19,
   "id": "whole-species",
   "metadata": {},
   "outputs": [],
   "source": [
    "X = framingham.drop('TenYearCHD',axis=1)\n",
    "y = framingham['TenYearCHD']"
   ]
  },
  {
   "cell_type": "code",
   "execution_count": 20,
   "id": "dried-october",
   "metadata": {},
   "outputs": [],
   "source": [
    "X_train, X_test, y_train, y_test = train_test_split(X,y,test_size=0.30)"
   ]
  },
  {
   "cell_type": "code",
   "execution_count": 21,
   "id": "extreme-satin",
   "metadata": {},
   "outputs": [],
   "source": [
    "from numpy import mean\n",
    "from sklearn.datasets import make_classification\n",
    "from sklearn.model_selection import cross_val_score\n",
    "from sklearn.model_selection import RepeatedStratifiedKFold\n",
    "from sklearn.tree import DecisionTreeClassifier\n",
    "from imblearn.pipeline import Pipeline\n",
    "from imblearn.under_sampling import RandomUnderSampler\n",
    "from imblearn.over_sampling import RandomOverSampler"
   ]
  },
  {
   "cell_type": "code",
   "execution_count": 22,
   "id": "parliamentary-present",
   "metadata": {},
   "outputs": [],
   "source": [
    "\n",
    "oversample = RandomOverSampler(sampling_strategy='minority')\n",
    "X_over, y_over = oversample.fit_resample(X, y)\n",
    "X_train, X_test, y_train, y_test = train_test_split(X_over,y_over,test_size=0.30)"
   ]
  },
  {
   "cell_type": "code",
   "execution_count": 23,
   "id": "southeast-priest",
   "metadata": {},
   "outputs": [],
   "source": [
    "steps = [('under', RandomUnderSampler()), ('model', DecisionTreeClassifier())]\n",
    "pipeline = Pipeline(steps=steps)"
   ]
  },
  {
   "cell_type": "code",
   "execution_count": 24,
   "id": "structured-franklin",
   "metadata": {},
   "outputs": [
    {
     "data": {
      "text/plain": [
       "Pipeline(steps=[('under', RandomUnderSampler()),\n",
       "                ('model', DecisionTreeClassifier())])"
      ]
     },
     "execution_count": 24,
     "metadata": {},
     "output_type": "execute_result"
    }
   ],
   "source": [
    "pipeline.fit(X_train,y_train)"
   ]
  },
  {
   "cell_type": "code",
   "execution_count": 25,
   "id": "sustained-murray",
   "metadata": {},
   "outputs": [],
   "source": [
    "pipepred = pipeline.predict(X_test)"
   ]
  },
  {
   "cell_type": "code",
   "execution_count": 26,
   "id": "continent-universal",
   "metadata": {},
   "outputs": [
    {
     "name": "stdout",
     "output_type": "stream",
     "text": [
      "              precision    recall  f1-score   support\n",
      "\n",
      "           0       0.99      0.81      0.89       948\n",
      "           1       0.83      0.99      0.90       913\n",
      "\n",
      "    accuracy                           0.90      1861\n",
      "   macro avg       0.91      0.90      0.90      1861\n",
      "weighted avg       0.91      0.90      0.90      1861\n",
      "\n"
     ]
    }
   ],
   "source": [
    "from sklearn.metrics import classification_report,accuracy_score\n",
    "print(classification_report(y_test,pipepred))"
   ]
  },
  {
   "cell_type": "code",
   "execution_count": 27,
   "id": "prepared-server",
   "metadata": {},
   "outputs": [
    {
     "data": {
      "text/plain": [
       "0.8968296614723267"
      ]
     },
     "execution_count": 27,
     "metadata": {},
     "output_type": "execute_result"
    }
   ],
   "source": [
    "accuracy_score(y_test,pipepred)"
   ]
  },
  {
   "cell_type": "code",
   "execution_count": null,
   "id": "allied-crest",
   "metadata": {},
   "outputs": [],
   "source": [
    "#THIS ACCURACY BEATS THE BASELINE SCORE."
   ]
  }
 ],
 "metadata": {
  "kernelspec": {
   "display_name": "Python 3 (ipykernel)",
   "language": "python",
   "name": "python3"
  },
  "language_info": {
   "codemirror_mode": {
    "name": "ipython",
    "version": 3
   },
   "file_extension": ".py",
   "mimetype": "text/x-python",
   "name": "python",
   "nbconvert_exporter": "python",
   "pygments_lexer": "ipython3",
   "version": "3.8.13"
  }
 },
 "nbformat": 4,
 "nbformat_minor": 5
}
